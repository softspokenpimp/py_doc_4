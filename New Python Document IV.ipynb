{
 "cells": [
  {
   "cell_type": "markdown",
   "metadata": {},
   "source": [
    "# Object-Oriented-Programming (OOP)"
   ]
  },
  {
   "cell_type": "markdown",
   "metadata": {},
   "source": [
    "## Tasks Today:\n",
    "\n",
    "   \n",
    "\n",
    "1) <b>Creating a Class (Initializing/Declaring)</b> <br>\n",
    "2) <b>Using a Class (Instantiating)</b> <br>\n",
    " &nbsp;&nbsp;&nbsp;&nbsp; a) Creating One Instance <br>\n",
    " &nbsp;&nbsp;&nbsp;&nbsp; b) Creating Multiple Instances <br>\n",
    " &nbsp;&nbsp;&nbsp;&nbsp; c) In-Class Exercise #1 - Create a Class 'Car' and instantiate three different makes of cars <br>\n",
    "3) <b>The \\__init\\__() Method</b> <br>\n",
    " &nbsp;&nbsp;&nbsp;&nbsp; a) The 'self' Attribute <br>\n",
    "4) <b>Class Attributes</b> <br>\n",
    " &nbsp;&nbsp;&nbsp;&nbsp; a) Initializing Attributes <br>\n",
    " &nbsp;&nbsp;&nbsp;&nbsp; b) Setting an Attribute Outside of the \\__init\\__() Method <br>\n",
    " &nbsp;&nbsp;&nbsp;&nbsp; c) Setting Defaults for Attributes <br>\n",
    " &nbsp;&nbsp;&nbsp;&nbsp; d) Accessing Class Attributes <br>\n",
    " &nbsp;&nbsp;&nbsp;&nbsp; e) Changing Class Attributes <br>\n",
    " &nbsp;&nbsp;&nbsp;&nbsp; f) In-Class Exercise #2 - Add a color and wheels attribute to your 'Car' class <br>\n",
    "5) <b>Class Methods</b> <br>\n",
    " &nbsp;&nbsp;&nbsp;&nbsp; a) Creating <br>\n",
    " &nbsp;&nbsp;&nbsp;&nbsp; b) Calling <br>\n",
    " &nbsp;&nbsp;&nbsp;&nbsp; c) Modifying an Attribute's Value Through a Method <br>\n",
    " &nbsp;&nbsp;&nbsp;&nbsp; d) Incrementing an Attribute's Value Through a Method <br>\n",
    " &nbsp;&nbsp;&nbsp;&nbsp; e) In-Class Exercise #3 - Add a method that prints the cars color and wheel number, then call them <br>\n",
    "6) <b>Inheritance</b> <br>\n",
    " &nbsp;&nbsp;&nbsp;&nbsp; a) Syntax for Inheriting from a Parent Class <br>\n",
    " &nbsp;&nbsp;&nbsp;&nbsp; b) The \\__init\\__() Method for a Child Class (super()) <br>\n",
    " &nbsp;&nbsp;&nbsp;&nbsp; c) Defining Attributes and Methods for the Child Class <br>\n",
    " &nbsp;&nbsp;&nbsp;&nbsp; d) Method Overriding <br>\n",
    " &nbsp;&nbsp;&nbsp;&nbsp; e) In-Class Exercise #4 - Create a class 'Ford' that inherits from 'Car' class and initialize it as a Blue Ford Explorer with 4 wheels using the super() method <br>\n",
    "7) <b>Classes as Attributes</b> <br>\n",
    "8) <b>Exercises</b> <br>\n",
    " &nbsp;&nbsp;&nbsp;&nbsp; a) Exercise #1 - Turn the shopping cart program from yesterday into an object-oriented program <br>"
   ]
  },
  {
   "cell_type": "markdown",
   "metadata": {},
   "source": [
    "## Creating a Class (Initializing/Declaring)\n",
    "<p>When creating a class, function, or even a variable you are initializing that object. Initializing and Declaring occur at the same time in Python, whereas in lower level languages you have to declare an object before initializing it. This is the first step in the process of using a class.</p>"
   ]
  },
  {
   "cell_type": "code",
   "execution_count": 4,
   "metadata": {},
   "outputs": [],
   "source": [
    "# THIS IS the IDEAAAA of a car\n",
    "class Car():\n",
    "    wheels = 4\n",
    "    color = \"blue\"\n",
    "    wipers = \"woosh woosh woosh woosh\""
   ]
  },
  {
   "cell_type": "markdown",
   "metadata": {},
   "source": [
    "## Using a Class (Instantiating)\n",
    "<p>The process of creating a class is called <i>Instantiating</i>. Each time you create a variable of that type of class, it is referred to as an <i>Instance</i> of that class. This is the second step in the process of using a class.</p>"
   ]
  },
  {
   "cell_type": "markdown",
   "metadata": {},
   "source": [
    "##### Creating One Instance"
   ]
  },
  {
   "cell_type": "code",
   "execution_count": 5,
   "metadata": {},
   "outputs": [
    {
     "name": "stdout",
     "output_type": "stream",
     "text": [
      "woosh woosh woosh woosh\n"
     ]
    }
   ],
   "source": [
    "ford = Car()\n",
    "\n",
    "print(ford.wipers)"
   ]
  },
  {
   "cell_type": "markdown",
   "metadata": {},
   "source": [
    "##### Creating Multiple Instances"
   ]
  },
  {
   "cell_type": "code",
   "execution_count": 6,
   "metadata": {},
   "outputs": [
    {
     "name": "stdout",
     "output_type": "stream",
     "text": [
      "<class 'str'>\n"
     ]
    },
    {
     "ename": "AttributeError",
     "evalue": "'Car' object has no attribute 'bumper'",
     "output_type": "error",
     "traceback": [
      "\u001b[1;31m---------------------------------------------------------------------------\u001b[0m",
      "\u001b[1;31mAttributeError\u001b[0m                            Traceback (most recent call last)",
      "Input \u001b[1;32mIn [6]\u001b[0m, in \u001b[0;36m<cell line: 6>\u001b[1;34m()\u001b[0m\n\u001b[0;32m      3\u001b[0m porsche \u001b[38;5;241m=\u001b[39m Car()\n\u001b[0;32m      5\u001b[0m \u001b[38;5;28mprint\u001b[39m(\u001b[38;5;28mtype\u001b[39m(porsche\u001b[38;5;241m.\u001b[39mcolor))\n\u001b[1;32m----> 6\u001b[0m \u001b[38;5;28mprint\u001b[39m(\u001b[38;5;28mtype\u001b[39m(\u001b[43mporsche\u001b[49m\u001b[38;5;241;43m.\u001b[39;49m\u001b[43mbumper\u001b[49m))\n",
      "\u001b[1;31mAttributeError\u001b[0m: 'Car' object has no attribute 'bumper'"
     ]
    }
   ],
   "source": [
    "chevrolet = Car()\n",
    "honda = Car()\n",
    "porsche = Car()\n",
    "\n",
    "print(type(porsche.color))\n",
    "print(type(porsche.bumper))"
   ]
  },
  {
   "cell_type": "markdown",
   "metadata": {},
   "source": [
    "##### In-Class Exercise #1 - Create a Class 'Car' and Instantiate three different makes of cars"
   ]
  },
  {
   "cell_type": "code",
   "execution_count": 7,
   "metadata": {},
   "outputs": [
    {
     "name": "stdout",
     "output_type": "stream",
     "text": [
      "blue\n",
      "red\n"
     ]
    }
   ],
   "source": [
    "class Car():\n",
    "    doors = 4\n",
    "    wheels = 4\n",
    "    color = \"blue\"\n",
    "    \n",
    "toyota = Car()\n",
    "ford = Car()\n",
    "dodge = Car()\n",
    "\n",
    "print(ford.color)\n",
    "ford.color = \"red\"\n",
    "print(ford.color)\n",
    "\n"
   ]
  },
  {
   "cell_type": "markdown",
   "metadata": {},
   "source": [
    "## The \\__init\\__() Method <br>\n",
    "<p>This method is used in almost every created class, and called only once upon the creation of the class instance. This method will initialize all variables needed for the object.</p>"
   ]
  },
  {
   "cell_type": "code",
   "execution_count": 8,
   "metadata": {},
   "outputs": [
    {
     "name": "stdout",
     "output_type": "stream",
     "text": [
      "black\n",
      "blue\n",
      "4\n",
      "6\n"
     ]
    }
   ],
   "source": [
    "class Car():\n",
    "    engine = \"5.7L\" # global within class - any method inside the class can call this variables\n",
    "    \n",
    "    def __init__(self, color, wheels):\n",
    "        self.color = color\n",
    "        self.wheels = wheels\n",
    "\n",
    "        \n",
    "mazda = Car(\"black\", 4)\n",
    "subaru = Car(\"blue\", 6)\n",
    "\n",
    "print(mazda.color)\n",
    "print(subaru.color)\n",
    "print(mazda.wheels)\n",
    "print(subaru.wheels)"
   ]
  },
  {
   "cell_type": "markdown",
   "metadata": {},
   "source": [
    "##### The 'self' Attribute <br>\n",
    "<p>This attribute is required to keep track of specific instance's attributes. Without the self attribute, the program would not know how to reference or keep track of an instance's attributes.</p>"
   ]
  },
  {
   "cell_type": "code",
   "execution_count": 9,
   "metadata": {},
   "outputs": [
    {
     "data": {
      "text/plain": [
       "'Rock on, climber'"
      ]
     },
     "execution_count": 9,
     "metadata": {},
     "output_type": "execute_result"
    }
   ],
   "source": [
    "# see above\n",
    "\n",
    "class House(): \n",
    "    def __init__ (self, wall, dishes):\n",
    "        self.wall = wall\n",
    "        self.dishes = dishes\n",
    "        \n",
    "    def washDishes(self):\n",
    "        if self.dishes.lower() == \"dirty\":\n",
    "            return \"clean\"\n",
    "        \n",
    "    def rockClimbingWall(self, wall):\n",
    "        if self.wall.lower() == \"yes\":\n",
    "            return \"Rock on, climber\"\n",
    "        else: \n",
    "            return \"Why on eath would you not want a rock climbing wall in your house??\"\n",
    "        \n",
    "brandon_house = House(\"yes\", \"dirty\")\n",
    "\n",
    "brandon_house.washDishes()\n",
    "brandon_house.rockClimbingWall(\"Yes\")"
   ]
  },
  {
   "cell_type": "markdown",
   "metadata": {},
   "source": [
    "## Class Attributes <br>\n",
    "<p>While variables are inside of a class, they are referred to as attributes and not variables. When someone says 'attribute' you know they're speaking about a class. Attributes can be initialized through the init method, or outside of it.</p>"
   ]
  },
  {
   "cell_type": "markdown",
   "metadata": {},
   "source": [
    "##### Initializing Attributes"
   ]
  },
  {
   "cell_type": "code",
   "execution_count": 10,
   "metadata": {},
   "outputs": [],
   "source": [
    "# see above\n",
    "\n",
    "class Toy():\n",
    "    kind = \"car\" # this is a constant\n",
    "    \n",
    "    def __init__(self, rooftop, horn, wheels):\n",
    "        self.rooftop = rooftop  # THESE are attributes\n",
    "        self.horn = horn \n",
    "        self.wheels = wheels\n",
    "        \n",
    "tonka_truck = Toy(1, 1, 4) #1 rooftop 1 horn 4 wheels\n",
    "hotwheels_car = Toy(2, 3, 8) # 2 rooftops 3 horns 8 wheels"
   ]
  },
  {
   "cell_type": "markdown",
   "metadata": {},
   "source": [
    "##### Accessing Class Attributes"
   ]
  },
  {
   "cell_type": "code",
   "execution_count": 11,
   "metadata": {
    "scrolled": true
   },
   "outputs": [
    {
     "data": {
      "text/plain": [
       "8"
      ]
     },
     "execution_count": 11,
     "metadata": {},
     "output_type": "execute_result"
    }
   ],
   "source": [
    "# see above\n",
    "\n",
    "tonka_truck.rooftop\n",
    "hotwheels_car.wheels"
   ]
  },
  {
   "cell_type": "markdown",
   "metadata": {},
   "source": [
    "##### Setting Defaults for Attributes"
   ]
  },
  {
   "cell_type": "code",
   "execution_count": 12,
   "metadata": {},
   "outputs": [
    {
     "data": {
      "text/plain": [
       "'blue'"
      ]
     },
     "execution_count": 12,
     "metadata": {},
     "output_type": "execute_result"
    }
   ],
   "source": [
    "class Car():\n",
    "    engine = \"5.7L\"\n",
    "    \n",
    "    def __init__ (self, wheels):\n",
    "        self.wheels = wheels\n",
    "        self.color = \"blue\"\n",
    "        \n",
    "honda = Car(4)\n",
    "honda.color"
   ]
  },
  {
   "cell_type": "markdown",
   "metadata": {},
   "source": [
    "##### Changing Class Attributes <br>\n",
    "<p>Keep in mind there are global class attributes and then there are attributes only available to each class instance which won't effect other classes.</p>"
   ]
  },
  {
   "cell_type": "code",
   "execution_count": 13,
   "metadata": {},
   "outputs": [
    {
     "name": "stdout",
     "output_type": "stream",
     "text": [
      "Before Change: blue\n",
      "After Change: white\n",
      "blue\n"
     ]
    }
   ],
   "source": [
    "jeep = Car(8)\n",
    "\n",
    "print(f\"Before Change: {jeep.color}\")\n",
    "jeep.color = \"white\"\n",
    "print(f\"After Change: {jeep.color}\")\n",
    "\n",
    "print(honda.color)\n"
   ]
  },
  {
   "cell_type": "code",
   "execution_count": null,
   "metadata": {},
   "outputs": [],
   "source": []
  },
  {
   "cell_type": "markdown",
   "metadata": {},
   "source": [
    "##### In-Class Exercise #2 - Add a doors and seats attribute to your 'Car' class then print out two different instances with different doors and seats"
   ]
  },
  {
   "cell_type": "code",
   "execution_count": 14,
   "metadata": {},
   "outputs": [
    {
     "name": "stdout",
     "output_type": "stream",
     "text": [
      "Toyota Seats: 2 and Toyota Doors: 2\n",
      "Porsche seats: 4 and Porsche doors: 4\n"
     ]
    }
   ],
   "source": [
    "class Car():\n",
    "    \n",
    "    def __init__ (self, doors, seats = 4):\n",
    "        self.doors = doors\n",
    "        self.seats = seats\n",
    "\n",
    "toyota = Car(2,2)\n",
    "porsche = Car(4)\n",
    "\n",
    "print(f\"Toyota Seats: {toyota.seats} and Toyota Doors: {toyota.doors}\")\n",
    "print(f\"Porsche seats: {porsche.seats} and Porsche doors: {porsche.doors}\")\n"
   ]
  },
  {
   "cell_type": "markdown",
   "metadata": {},
   "source": [
    "## Class Methods <br>\n",
    "<p>While inside of a class, functions are referred to as 'methods'. If you hear someone mention methods, they're speaking about classes. Methods are essentially functions, but only callable on the instances of a class.</p>"
   ]
  },
  {
   "cell_type": "markdown",
   "metadata": {},
   "source": [
    "##### Creating"
   ]
  },
  {
   "cell_type": "code",
   "execution_count": 15,
   "metadata": {},
   "outputs": [],
   "source": [
    "class ShoppingBag():\n",
    "    '''\n",
    "    The shopping bag class will have handles, capacity, and items to place inside. \n",
    "    attributes for the class:\n",
    "    - handles: expected to be an integer\n",
    "    - capacity: expected to be a string OR an integer\n",
    "    - items: expected to be a list \n",
    "    '''\n",
    "    \n",
    "    def __init__ (self, handles, capacity, items): \n",
    "        self.handles = handles\n",
    "        self.capacity = capacity \n",
    "        self.items = items\n",
    "        \n",
    "    #WWrite a method that shows the items in our shopping bag / this is our items list \n",
    "    def showShoppingBag(self):\n",
    "        print(\"you have items in your bag!\")\n",
    "        for item in self.items:\n",
    "            print(item)\n",
    "            \n",
    "    #Show the capacity of shopping bag - how  much room is left\n",
    "    def showCapacity(self):\n",
    "        print(f\"Your capacity is: {self.capacity}\")\n",
    "        \n",
    "    # Add items to the items list for the shopping bag\n",
    "    def addToShoppingBag(self):\n",
    "        products = input(\"What would you like to add? \")\n",
    "        self.items.append(products)\n",
    "        \n",
    "    #Change the capacity of thhe shopping bag\n",
    "    def changeBagCapacity(self, capacity):\n",
    "        self.capacity = capacity \n",
    "        \n",
    "    #increase the capacity of the shopping bag by a dafault amout that we set to 10\n",
    "    def increaseCapacity(self, changed_capacity = 10):\n",
    "        if self.capacity == isinstance(self.capacity, str):\n",
    "            print(\"We can't add that here\")\n",
    "        else: \n",
    "            self.capacity += changed_capacity\n",
    "            \n",
    "\n",
    "    "
   ]
  },
  {
   "cell_type": "markdown",
   "metadata": {},
   "source": [
    "##### Calling"
   ]
  },
  {
   "cell_type": "code",
   "execution_count": 16,
   "metadata": {},
   "outputs": [
    {
     "name": "stdout",
     "output_type": "stream",
     "text": [
      "What do you want to do? add/show/quit add\n",
      "What would you like to add? grapes\n",
      "What do you want to do? add/show/quit add\n",
      "What would you like to add? coke\n",
      "What do you want to do? add/show/quit add\n",
      "What would you like to add? books\n",
      "What do you want to do? add/show/quit ad\n",
      "Try another command\n",
      "What do you want to do? add/show/quit show\n",
      "you have items in your bag!\n",
      "grapes\n",
      "coke\n",
      "books\n",
      "What do you want to do? add/show/quit quit\n",
      "you have items in your bag!\n",
      "grapes\n",
      "coke\n",
      "books\n",
      "Thanks for shopping\n"
     ]
    }
   ],
   "source": [
    "# see above\n",
    "\n",
    "# So far, we created the idea of the shopping bag; now we will actually instantiate and MAKE one and use it! :O\n",
    "\n",
    "wholeFoods_bag = ShoppingBag(2, 10, [])\n",
    "\n",
    "#Creat a function to run the shoppingbag methods on our whole foods bag instance\n",
    "def run(): \n",
    "    while True: \n",
    "        response = input(\"What do you want to do? add/show/quit \")\n",
    "        if response.lower() == \"quit\":\n",
    "            wholeFoods_bag.showShoppingBag()\n",
    "            print(\"Thanks for shopping\")\n",
    "            break\n",
    "        elif response.lower() == \"add\":\n",
    "            wholeFoods_bag.addToShoppingBag()\n",
    "        elif response.lower() == \"show\":\n",
    "            wholeFoods_bag.showShoppingBag()\n",
    "        else:\n",
    "            print(\"Try another command\")\n",
    "            \n",
    "run()"
   ]
  },
  {
   "cell_type": "markdown",
   "metadata": {},
   "source": [
    "##### Modifying an Attribute's Value Through a Method"
   ]
  },
  {
   "cell_type": "code",
   "execution_count": 17,
   "metadata": {},
   "outputs": [
    {
     "name": "stdout",
     "output_type": "stream",
     "text": [
      "Your capacity is: 10\n",
      "Capacity After change...\n",
      "Your capacity is: 40\n"
     ]
    }
   ],
   "source": [
    "# Show the capacity \n",
    "\n",
    "wholeFoods_bag.showCapacity()\n",
    "print(\"Capacity After change...\")\n",
    "wholeFoods_bag.changeBagCapacity(40)\n",
    "wholeFoods_bag.showCapacity()"
   ]
  },
  {
   "cell_type": "markdown",
   "metadata": {},
   "source": [
    "##### Incrementing an Attribute's Value Through a Method"
   ]
  },
  {
   "cell_type": "code",
   "execution_count": 18,
   "metadata": {},
   "outputs": [
    {
     "name": "stdout",
     "output_type": "stream",
     "text": [
      "Your capacity is: 40\n",
      "After increase: \n",
      "Your capacity is: 50\n"
     ]
    }
   ],
   "source": [
    "wholeFoods_bag.showCapacity()\n",
    "print(\"After increase: \")\n",
    "wholeFoods_bag.increaseCapacity()\n",
    "wholeFoods_bag.showCapacity()\n"
   ]
  },
  {
   "cell_type": "markdown",
   "metadata": {},
   "source": [
    "##### In-Class Exercise #3 - Add a method that takes in three parameters of year, doors and seats and prints out a formatted print statement with make, model, year, seats, and doors"
   ]
  },
  {
   "cell_type": "code",
   "execution_count": 29,
   "metadata": {},
   "outputs": [
    {
     "name": "stdout",
     "output_type": "stream",
     "text": [
      "This car is from 2019 and is a Ford Explorer and has 4 doors and 5 seats.\n"
     ]
    }
   ],
   "source": [
    "# creat class with 2 parameters inside of the init whch are make and model\n",
    "#Inside of the car class create a method that has 4 parameters in total (self year door seatts)\n",
    "#Output: This car is from 2019 and is a for explorer and has 4 doors and 5 seats\n",
    "\n",
    "class Car():\n",
    "\n",
    "    def __init__ (self, make, model): \n",
    "        self.make = make\n",
    "        self.model = model\n",
    "\n",
    "    def specs (self, year, doors, seats):\n",
    "        self.year = year\n",
    "        self.doors = doors\n",
    "        self.seats = seats    \n",
    "\n",
    "        \n",
    "ford = Car(\"Ford\", \"Explorer\")\n",
    "\n",
    "ford.specs(2019, 4, 5)\n",
    "\n",
    "\n",
    "def run(): \n",
    "    print(f\"This car is from {ford.year} and is a {ford.make} {ford.model} and has {ford.doors} doors and {ford.seats} seats.\")\n",
    "\n",
    "\n",
    "run()\n",
    "            "
   ]
  },
  {
   "cell_type": "markdown",
   "metadata": {},
   "source": [
    "## Inheritance <br>\n",
    "<p>You can create a child-parent relationship between two classes by using inheritance. What this allows you to do is have overriding methods, but also inherit traits from the parent class. Think of it as an actual parent and child, the child will inherit the parent's genes, as will the classes in OOP</p>"
   ]
  },
  {
   "cell_type": "markdown",
   "metadata": {},
   "source": [
    "##### Syntax for Inheriting from a Parent Class"
   ]
  },
  {
   "cell_type": "code",
   "execution_count": 43,
   "metadata": {},
   "outputs": [
    {
     "name": "stdout",
     "output_type": "stream",
     "text": [
      "bark\n",
      "Make some generic sound\n",
      "None\n",
      "9.8\n",
      "15\n"
     ]
    }
   ],
   "source": [
    "#create a parent class and call it animal\n",
    "class Animal():\n",
    "    acceleration = 9.8\n",
    "    \n",
    "    def __init__ (self, name, species, legs = 4):\n",
    "        self.name = name\n",
    "        self.species = species \n",
    "        self.legs = legs\n",
    "        \n",
    "        #Generic parent method - this is NOT overriding anything \n",
    "        \n",
    "    def makeSound(self):\n",
    "        print(\"Make some generic sound\")\n",
    "            \n",
    "#now we are making our child class,... dog\n",
    "class Dog(Animal):\n",
    "    speed = 15\n",
    "    \n",
    "    def printInfo(self):\n",
    "        print(f\"The Dog has {self.speed}mph in speed and {self.accelaration}\")\n",
    "        \n",
    "#creation of gran-child - mutt\n",
    "class Mutt(Dog):\n",
    "    color = \"Tan\"\n",
    "    \n",
    "    #override the ANIMAL class - using the Dog class to overwite the init from animal\n",
    "    def __init__ (self, name, species, eye_color, legs=4):\n",
    "        Dog.__init__(self, name, species, legs)\n",
    "        self.eye_color = eye_color\n",
    "        \n",
    "    #OVeride the sound from animal \n",
    "    def makeSound(self):\n",
    "        noise = \"bark\"\n",
    "        return noise\n",
    "    \n",
    "lassie = Dog(\"lassie\", \"dog\")\n",
    "basic_animal = Animal(\"Generic animal name\", \"generic animal specis\")\n",
    "buster = Mutt(\"buster\", \"mutt\", \"Brown\")\n",
    "\n",
    "print(buster.makeSound())\n",
    "print(lassie.makeSound())\n",
    "print(buster.acceleration)\n",
    "# print(animal.speed)\n",
    "print(buster.speed)"
   ]
  },
  {
   "cell_type": "markdown",
   "metadata": {},
   "source": [
    "##### The \\__init\\__() Method for a Child Class - super()"
   ]
  },
  {
   "cell_type": "code",
   "execution_count": 44,
   "metadata": {
    "scrolled": true
   },
   "outputs": [
    {
     "name": "stdout",
     "output_type": "stream",
     "text": [
      "bark\n",
      "Make some generic sound\n",
      "None\n",
      "9.8\n",
      "15\n"
     ]
    }
   ],
   "source": [
    "class Puppy(Dog):\n",
    "    color = \"black and brown\"\n",
    "    \n",
    "    #override the animal class init via dog class\n",
    "    def __init__ (self, name,species, eye_color, legs = 4):\n",
    "        super().__init__(name, species, legs)\n",
    "        self.eye_color = eye_color\n",
    "        \n",
    "    #override the make sound method\n",
    "    def makeSound(self):\n",
    "        noise = \"bark\"\n",
    "        return noise \n",
    "    \n",
    "lassie = Dog(\"lassie\", \"dog\")\n",
    "basic_animal = Animal(\"Generic animal name\", \"generic animal specis\")\n",
    "buster = Mutt(\"buster\", \"mutt\", \"Brown\")\n",
    "\n",
    "print(buster.makeSound())\n",
    "print(lassie.makeSound())\n",
    "print(buster.acceleration)\n",
    "# print(animal.speed)\n",
    "print(buster.speed)"
   ]
  },
  {
   "cell_type": "markdown",
   "metadata": {},
   "source": [
    "##### Defining Attributes and Methods for the Child Class"
   ]
  },
  {
   "cell_type": "code",
   "execution_count": null,
   "metadata": {},
   "outputs": [],
   "source": [
    "# See Above"
   ]
  },
  {
   "cell_type": "markdown",
   "metadata": {},
   "source": [
    "##### Method Overriding"
   ]
  },
  {
   "cell_type": "code",
   "execution_count": null,
   "metadata": {},
   "outputs": [],
   "source": [
    "# See Above"
   ]
  },
  {
   "cell_type": "markdown",
   "metadata": {},
   "source": [
    "## Classes as Attributes <br>\n",
    "<p>Classes can also be used as attributes within another class. This is useful in situations where you need to keep variables locally stored, instead of globally stored.</p>"
   ]
  },
  {
   "cell_type": "code",
   "execution_count": 48,
   "metadata": {},
   "outputs": [
    {
     "name": "stdout",
     "output_type": "stream",
     "text": [
      "20\n"
     ]
    },
    {
     "data": {
      "text/plain": [
       "'2019 Tesla Model x 20'"
      ]
     },
     "execution_count": 48,
     "metadata": {},
     "output_type": "execute_result"
    }
   ],
   "source": [
    "class Battery():\n",
    "    volts = 7.8\n",
    "    \n",
    "    def __init__ (self, cells):\n",
    "        self.cells = cells\n",
    "        \n",
    "class Car():\n",
    "    \n",
    "    def __init__(self, year, make, model, battery):\n",
    "        self.year = year\n",
    "        self.make = make\n",
    "        self.model = model\n",
    "        self.battery = battery\n",
    "\n",
    "    def printInfo(self):\n",
    "        return (f\"{self.year} {self.make} {self. model} {self.battery.cells}\")\n",
    "    \n",
    "my_battery = Battery(20)\n",
    "\n",
    "tesla = Car(2019, \"Tesla\", \"Model x\", my_battery)\n",
    "\n",
    "print(tesla.battery.cells)\n",
    "tesla.printInfo()"
   ]
  },
  {
   "cell_type": "markdown",
   "metadata": {},
   "source": [
    "# Exercises"
   ]
  },
  {
   "cell_type": "markdown",
   "metadata": {},
   "source": [
    "### Exercise 1 - Turn the shopping cart program from yesterday into an object-oriented program\n",
    "\n",
    "The comments in the cell below are there as a guide for thinking about the problem. However, if you feel a different way is best for you and your own thought process, please do what feels best for you by all means."
   ]
  },
  {
   "cell_type": "code",
   "execution_count": 59,
   "metadata": {},
   "outputs": [
    {
     "name": "stdout",
     "output_type": "stream",
     "text": [
      "What do you want to do? add/remove/show/quit add\n",
      "Enter the item you wish to add: ghosts\n",
      "Item Added: ghosts\n",
      "What do you want to do? add/remove/show/quit add\n",
      "Enter the item you wish to add: skeletons\n",
      "Item Added: skeletons\n",
      "What do you want to do? add/remove/show/quit add\n",
      "Enter the item you wish to add: shampoo\n",
      "Item Added: shampoo\n",
      "What do you want to do? add/remove/show/quit add\n",
      "Enter the item you wish to add: dog food\n",
      "Item Added: dog food\n",
      "What do you want to do? add/remove/show/quit remove\n",
      "Enter the item you wish to delete: dog food\n",
      "Item Removed: dog food\n",
      "What do you want to do? add/remove/show/quit show\n",
      "['ghosts', 'skeletons', 'shampoo']\n",
      "What do you want to do? add/remove/show/quit quit\n",
      "Thanks for shopping!\n",
      "['ghosts', 'skeletons', 'shampoo']\n"
     ]
    }
   ],
   "source": [
    "from IPython.display import clear_output\n",
    "\n",
    "class Cart():\n",
    "    \n",
    "    def __init__ (self, items):\n",
    "        self.items = items\n",
    "        \n",
    "    def printCart(self):\n",
    "        print(self.items)\n",
    "\n",
    "    def addCart(self):\n",
    "        item_add = input(\"Enter the item you wish to add: \")\n",
    "        self.items.append(item_add)\n",
    "        print(f\"Item Added: {item_add}\")\n",
    "    \n",
    "    def delCart(self):\n",
    "        item_del = input(\"Enter the item you wish to delete: \")\n",
    "        if item_del in self.items:\n",
    "            self.items.remove(item_del)\n",
    "            print(f\"Item Removed: {item_del}\")\n",
    "        else: \n",
    "            print(\"Error: Item not listed\") \n",
    "\n",
    "\n",
    "target_cart = Cart([])\n",
    "\n",
    "def run(): \n",
    "    while True: \n",
    "        ask = input(\"What do you want to do? add/remove/show/quit \")\n",
    "        if ask.lower() == \"quit\":\n",
    "            print(\"Thanks for shopping!\")\n",
    "            target_cart.printCart()\n",
    "            break\n",
    "        elif ask.lower() == \"add\":\n",
    "            target_cart.addCart()\n",
    "        elif ask.lower() == \"show\":\n",
    "            target_cart.printCart()\n",
    "        elif ask.lower() == \"remove\":\n",
    "            target_cart.delCart()\n",
    "        else:\n",
    "            print(\"Try another command\")\n",
    "            \n",
    "run()\n",
    "\n"
   ]
  },
  {
   "cell_type": "markdown",
   "metadata": {},
   "source": [
    "### Exercise 2 - Write a Python class which has two methods get_String and print_String. get_String accept a string from the user and print_String print the string in upper case"
   ]
  },
  {
   "cell_type": "code",
   "execution_count": 64,
   "metadata": {},
   "outputs": [
    {
     "name": "stdout",
     "output_type": "stream",
     "text": [
      "Enter a string: liz\n",
      "LIZ\n",
      "Enter 'Quit' to exit. Otherwise, Stringying will continue.maroo\n",
      "Enter a string: lizzie\n",
      "LIZZIE\n",
      "Enter 'Quit' to exit. Otherwise, Stringying will continue.marooooo\n",
      "Enter a string: Merlin\n",
      "MERLIN\n",
      "Enter 'Quit' to exit. Otherwise, Stringying will continue.quit\n",
      "Thanks for stringing!\n"
     ]
    }
   ],
   "source": [
    "class Stringys():\n",
    "    \n",
    "    def __init__ (self, strings):\n",
    "        self.strings = strings\n",
    "        \n",
    "    def get_String(self):\n",
    "        add_str = input(\"Enter a string: \")\n",
    "        self.strings = add_str\n",
    "        \n",
    "    def print_String(self):\n",
    "        print(self.strings.upper())\n",
    "        \n",
    "my_stringy = Stringys(\"\")\n",
    "\n",
    "def run(): \n",
    "    while True: \n",
    "        my_stringy.get_String()\n",
    "        my_stringy.print_String()\n",
    "        ask = input(\"Enter 'Quit' to exit. Otherwise, Stringying will continue.\")\n",
    "        if ask.lower() == \"quit\":\n",
    "            print(\"Thanks for stringing!\")\n",
    "            break\n",
    "            \n",
    "run()"
   ]
  },
  {
   "cell_type": "code",
   "execution_count": null,
   "metadata": {},
   "outputs": [],
   "source": []
  }
 ],
 "metadata": {
  "kernelspec": {
   "display_name": "Python 3 (ipykernel)",
   "language": "python",
   "name": "python3"
  },
  "language_info": {
   "codemirror_mode": {
    "name": "ipython",
    "version": 3
   },
   "file_extension": ".py",
   "mimetype": "text/x-python",
   "name": "python",
   "nbconvert_exporter": "python",
   "pygments_lexer": "ipython3",
   "version": "3.9.12"
  }
 },
 "nbformat": 4,
 "nbformat_minor": 2
}
